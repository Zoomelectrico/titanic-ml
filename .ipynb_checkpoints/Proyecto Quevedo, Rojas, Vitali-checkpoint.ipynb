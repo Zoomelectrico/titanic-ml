{
 "cells": [
  {
   "cell_type": "code",
   "execution_count": 105,
   "metadata": {},
   "outputs": [],
   "source": [
    "import numpy as np\n",
    "import pandas as pd\n",
    "import math\n",
    "import matplotlib\n",
    "import matplotlib.pyplot as plt\n",
    "import matplotlib.cbook as cbook"
   ]
  },
  {
   "cell_type": "code",
   "execution_count": 106,
   "metadata": {},
   "outputs": [],
   "source": [
    "train_df = pd.read_csv('./data/train.csv')\n",
    "test_df = pd.read_csv('./data/test.csv')"
   ]
  },
  {
   "cell_type": "code",
   "execution_count": 107,
   "metadata": {},
   "outputs": [],
   "source": [
    "# Borramos los ids esto no funciona para el modelo\n",
    "train_df = train_df.drop(['PassengerId'], axis=1)\n",
    "test_df = test_df.drop(['PassengerId'], axis=1)"
   ]
  },
  {
   "cell_type": "code",
   "execution_count": 108,
   "metadata": {},
   "outputs": [],
   "source": [
    "desc = train_df['Embarked'].describe()\n",
    "embarked_common = desc.values[2]"
   ]
  },
  {
   "cell_type": "code",
   "execution_count": 109,
   "metadata": {},
   "outputs": [
    {
     "ename": "KeyError",
     "evalue": "'Embarked'",
     "output_type": "error",
     "traceback": [
      "\u001b[0;31m---------------------------------------------------------------------------\u001b[0m",
      "\u001b[0;31mKeyError\u001b[0m                                  Traceback (most recent call last)",
      "\u001b[0;32m<ipython-input-109-0ef556b60b0c>\u001b[0m in \u001b[0;36m<module>\u001b[0;34m\u001b[0m\n\u001b[1;32m     25\u001b[0m     \u001b[0mports\u001b[0m \u001b[0;34m=\u001b[0m \u001b[0;34m{\u001b[0m\u001b[0;34m\"S\"\u001b[0m\u001b[0;34m:\u001b[0m \u001b[0;36m0\u001b[0m\u001b[0;34m,\u001b[0m \u001b[0;34m\"C\"\u001b[0m\u001b[0;34m:\u001b[0m \u001b[0;36m1\u001b[0m\u001b[0;34m,\u001b[0m \u001b[0;34m\"Q\"\u001b[0m\u001b[0;34m:\u001b[0m \u001b[0;36m2\u001b[0m\u001b[0;34m}\u001b[0m\u001b[0;34m\u001b[0m\u001b[0;34m\u001b[0m\u001b[0m\n\u001b[1;32m     26\u001b[0m     \u001b[0m_set\u001b[0m\u001b[0;34m[\u001b[0m\u001b[0;34m'Sex'\u001b[0m\u001b[0;34m]\u001b[0m \u001b[0;34m=\u001b[0m \u001b[0m_set\u001b[0m\u001b[0;34m[\u001b[0m\u001b[0;34m'Sex'\u001b[0m\u001b[0;34m]\u001b[0m\u001b[0;34m.\u001b[0m\u001b[0mmap\u001b[0m\u001b[0;34m(\u001b[0m\u001b[0mgender\u001b[0m\u001b[0;34m)\u001b[0m\u001b[0;34m\u001b[0m\u001b[0;34m\u001b[0m\u001b[0m\n\u001b[0;32m---> 27\u001b[0;31m     \u001b[0m_set\u001b[0m\u001b[0;34m[\u001b[0m\u001b[0;34m'Embarked'\u001b[0m\u001b[0;34m]\u001b[0m \u001b[0;34m=\u001b[0m \u001b[0m_\u001b[0m\u001b[0;34m[\u001b[0m\u001b[0;34m'Embarked'\u001b[0m\u001b[0;34m]\u001b[0m\u001b[0;34m.\u001b[0m\u001b[0mmap\u001b[0m\u001b[0;34m(\u001b[0m\u001b[0mgender\u001b[0m\u001b[0;34m)\u001b[0m\u001b[0;34m\u001b[0m\u001b[0;34m\u001b[0m\u001b[0m\n\u001b[0m",
      "\u001b[0;31mKeyError\u001b[0m: 'Embarked'"
     ]
    }
   ],
   "source": [
    "women_avg = train_df[train_df['Sex'] == 'female']['Age'].mean()\n",
    "women_std = train_df[train_df['Sex'] == 'female']['Age'].std()\n",
    "men_avg = train_df[train_df['Sex'] == 'male']['Age'].mean()\n",
    "men_std = train_df[train_df['Sex'] == 'male']['Age'].std()\n",
    "# Corregir la edad\n",
    "for i in range(len(train_df['Sex'].values)):\n",
    "    if np.isnan(train_df['Age'].values[i]):\n",
    "        if train_df['Sex'].values[i] == 'female':\n",
    "            train_df['Age'].values[i] = np.random.randint(women_avg - women_std, women_avg + women_std)\n",
    "        else:\n",
    "            train_df['Age'].values[i] = np.random.randint(men_avg - men_std, men_avg + men_std)\n",
    "for i in range(len(test_df['Sex'].values)):\n",
    "    if np.isnan(test_df['Age'].values[i]):\n",
    "        if test_df['Sex'].values[i] == 'female':\n",
    "            test_df['Age'].values[i] = np.random.randint(women_avg - women_std, women_avg + women_std)\n",
    "        else:\n",
    "            test_df['Age'].values[i] = np.random.randint(men_avg - men_std, men_avg + men_std)\n",
    "\n",
    "sets = [train_df, test_df]\n",
    "\n",
    "for _set in sets:\n",
    "    _set['Embarked'] = _set['Embarked'].fillna(embarked_common)\n",
    "    # Vamos a convertir categorias en valores numericos para la red\n",
    "    gender = { \"female\": 0, \"male\": 1 }\n",
    "    ports = {\"S\": 0, \"C\": 1, \"Q\": 2}\n",
    "    _set['Sex'] = _set['Sex'].map(gender)\n",
    "    _set['Embarked'] = _set['Embarked'].map(ports)\n",
    "    _set['']"
   ]
  },
  {
   "cell_type": "code",
   "execution_count": 111,
   "metadata": {},
   "outputs": [
    {
     "name": "stdout",
     "output_type": "stream",
     "text": [
      "         Survived      Pclass         Sex         Age       SibSp       Parch  \\\n",
      "count  891.000000  891.000000  891.000000  891.000000  891.000000  891.000000   \n",
      "mean     0.383838    2.308642    0.647587   29.520954    0.523008    0.381594   \n",
      "std      0.486592    0.836071    0.477990   13.591422    1.102743    0.806057   \n",
      "min      0.000000    1.000000    0.000000    0.420000    0.000000    0.000000   \n",
      "25%      0.000000    2.000000    0.000000   20.250000    0.000000    0.000000   \n",
      "50%      0.000000    3.000000    1.000000   28.000000    0.000000    0.000000   \n",
      "75%      1.000000    3.000000    1.000000   38.000000    1.000000    0.000000   \n",
      "max      1.000000    3.000000    1.000000   80.000000    8.000000    6.000000   \n",
      "\n",
      "             Fare  \n",
      "count  891.000000  \n",
      "mean    32.204208  \n",
      "std     49.693429  \n",
      "min      0.000000  \n",
      "25%      7.910400  \n",
      "50%     14.454200  \n",
      "75%     31.000000  \n",
      "max    512.329200  \n",
      "           Pclass         Age       SibSp       Parch        Fare\n",
      "count  418.000000  418.000000  418.000000  418.000000  417.000000\n",
      "mean     2.265550   30.338517    0.447368    0.392344   35.627188\n",
      "std      0.841838   13.133888    0.896760    0.981429   55.907576\n",
      "min      1.000000    0.170000    0.000000    0.000000    0.000000\n",
      "25%      1.000000   22.000000    0.000000    0.000000    7.895800\n",
      "50%      3.000000   29.000000    0.000000    0.000000   14.454200\n",
      "75%      3.000000   38.000000    1.000000    0.000000   31.500000\n",
      "max      3.000000   76.000000    8.000000    9.000000  512.329200\n"
     ]
    }
   ],
   "source": [
    "print(train_df.describe())\n",
    "print(test_df.describe())"
   ]
  },
  {
   "cell_type": "code",
   "execution_count": 58,
   "metadata": {},
   "outputs": [
    {
     "name": "stdout",
     "output_type": "stream",
     "text": [
      "++\n"
     ]
    }
   ],
   "source": [
    "print(\"++\")"
   ]
  },
  {
   "cell_type": "code",
   "execution_count": null,
   "metadata": {},
   "outputs": [],
   "source": []
  },
  {
   "cell_type": "code",
   "execution_count": null,
   "metadata": {},
   "outputs": [],
   "source": []
  }
 ],
 "metadata": {
  "kernelspec": {
   "display_name": "Python 3",
   "language": "python",
   "name": "python3"
  },
  "language_info": {
   "codemirror_mode": {
    "name": "ipython",
    "version": 3
   },
   "file_extension": ".py",
   "mimetype": "text/x-python",
   "name": "python",
   "nbconvert_exporter": "python",
   "pygments_lexer": "ipython3",
   "version": "3.7.3"
  }
 },
 "nbformat": 4,
 "nbformat_minor": 2
}
