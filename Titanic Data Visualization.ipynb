{
 "cells": [
  {
   "cell_type": "code",
   "execution_count": 13,
   "metadata": {},
   "outputs": [],
   "source": [
    "import numpy as np\n",
    "import pandas as pd\n",
    "import matplotlib\n",
    "import matplotlib.pyplot as plt\n",
    "import matplotlib.cbook as cbook"
   ]
  },
  {
   "cell_type": "code",
   "execution_count": 14,
   "metadata": {},
   "outputs": [],
   "source": [
    "train_df = pd.read_csv('./data/train.csv')"
   ]
  },
  {
   "cell_type": "code",
   "execution_count": 15,
   "metadata": {},
   "outputs": [
    {
     "data": {
      "text/plain": [
       "Index(['Survived', 'Pclass', 'Name', 'Sex', 'Age', 'SibSp', 'Parch', 'Ticket',\n",
       "       'Fare', 'Cabin', 'Embarked'],\n",
       "      dtype='object')"
      ]
     },
     "execution_count": 15,
     "metadata": {},
     "output_type": "execute_result"
    }
   ],
   "source": [
    "ids = train_df.get('PassengerId')\n",
    "train_df = train_df.drop(labels='PassengerId', axis=1)\n",
    "train_df.columns"
   ]
  },
  {
   "cell_type": "code",
   "execution_count": 76,
   "metadata": {},
   "outputs": [],
   "source": [
    "def split_age_gender(genders, ages):\n",
    "    men = []\n",
    "    women = []\n",
    "    assert(genders.shape[0] == ages.shape[0])\n",
    "    for i, gender in np.ndenumerate(genders):\n",
    "        if gender == 'female':\n",
    "            women.append(ages[i])\n",
    "        elif gender == 'male':\n",
    "            men.append(ages[i])\n",
    "    return women, men\n",
    "    "
   ]
  },
  {
   "cell_type": "code",
   "execution_count": 77,
   "metadata": {},
   "outputs": [
    {
     "name": "stdout",
     "output_type": "stream",
     "text": [
      "14.516321150817316\n",
      "29.69911764705882\n"
     ]
    }
   ],
   "source": [
    "# Veamos cada columna del dataset\n",
    "p_classes = train_df.get('Pclass')\n",
    "p_classes = p_classes.to_numpy()\n",
    "p_classes = p_classes.reshape((len(p_classes), 1))\n",
    "names = train_df.get('Name')\n",
    "names = names.to_numpy()\n",
    "names = names.reshape((len(names), 1))\n",
    "genders = train_df.get('Sex')\n",
    "genders = genders.to_numpy()\n",
    "genders = genders.reshape((len(genders), 1))\n",
    "ages = train_df.get('Age')\n",
    "ages = ages.to_numpy()\n",
    "ages = ages.reshape((len(ages), 1))\n",
    "siblings = train_df.get('SibSp')\n",
    "siblings = siblings.to_numpy()\n",
    "siblings = siblings.reshape((len(siblings), 1))\n",
    "parents = train_df.get('Parch')\n",
    "parents = parents.to_numpy()\n",
    "parents = parents.reshape((len(parents), 1))\n",
    "tickets = train_df.get('Ticket')\n",
    "tickets = tickets.to_numpy()\n",
    "tickets = tickets.reshape((len(tickets), 1))\n",
    "fares = train_df.get('Fare')\n",
    "fares = fares.to_numpy()\n",
    "fares = fares.reshape((len(fares), 1))\n",
    "cabins = train_df.get('Cabin')\n",
    "cabins = cabins.to_numpy()\n",
    "cabins = cabins.reshape((len(cabins), 1))\n",
    "ports = train_df.get('Embarked')\n",
    "ports = ports.to_numpy()\n",
    "ports = ports.reshape((len(ports), 1))\n",
    "age_mean = np.nanmean(ages)\n",
    "age_std = np.nanstd(ages)\n",
    "print(age_std)\n",
    "print(age_mean)\n",
    "#type(p_classes.data) \n",
    "#print(p_classes)\n",
    "#print(genders)\n",
    "#fig, ax = plt.subplots()\n",
    "#ax.scatter(genders.ravel(), p_classes.ravel())\n",
    "#ax.set(xlabel=\"Genero\", ylabel=\"PClass\")\n",
    "#ax.grid()"
   ]
  },
  {
   "cell_type": "code",
   "execution_count": 80,
   "metadata": {},
   "outputs": [
    {
     "name": "stdout",
     "output_type": "stream",
     "text": [
      "27.915708812260537\n",
      "14.083089584215843\n",
      "0.7947547236843746\n",
      "=========\n",
      "30.72664459161148\n",
      "14.661990768265268\n",
      "0.6103866622478571\n"
     ]
    }
   ],
   "source": [
    "women, men = split_age_gender(genders.ravel(), ages.ravel())\n",
    "women_avg = np.nanmean(women) \n",
    "women_std = np.nanstd(women)\n",
    "women_err = women_std / np.sqrt(len(women))\n",
    "men_avg = np.nanmean(men) \n",
    "men_std = np.nanstd(men)\n",
    "men_err = men_std / np.sqrt(len(men))\n",
    "print(\"Edad Minima y Maxima en Promedio para una mujer\")\n",
    "print(women_avg - women_err)\n",
    "print(women_avg + women_err)\n",
    "print(\"Edad Minima y Maxima en Promedio para un \")\n",
    "print(men_avg - men_err)\n",
    "print(men_avg + men_err)"
   ]
  },
  {
   "cell_type": "code",
   "execution_count": null,
   "metadata": {},
   "outputs": [],
   "source": []
  }
 ],
 "metadata": {
  "kernelspec": {
   "display_name": "Python 3",
   "language": "python",
   "name": "python3"
  },
  "language_info": {
   "codemirror_mode": {
    "name": "ipython",
    "version": 3
   },
   "file_extension": ".py",
   "mimetype": "text/x-python",
   "name": "python",
   "nbconvert_exporter": "python",
   "pygments_lexer": "ipython3",
   "version": "3.7.3"
  }
 },
 "nbformat": 4,
 "nbformat_minor": 2
}
