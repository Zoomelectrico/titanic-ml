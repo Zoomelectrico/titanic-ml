{
 "cells": [
  {
   "cell_type": "code",
   "execution_count": 51,
   "metadata": {},
   "outputs": [],
   "source": [
    "import numpy as np\n",
    "import pandas as pd\n",
    "import math\n",
    "import matplotlib\n",
    "import matplotlib.pyplot as plt\n",
    "import matplotlib.cbook as cbook"
   ]
  },
  {
   "cell_type": "code",
   "execution_count": 52,
   "metadata": {},
   "outputs": [],
   "source": [
    "train_df = pd.read_csv('./data/train.csv')"
   ]
  },
  {
   "cell_type": "code",
   "execution_count": 53,
   "metadata": {},
   "outputs": [
    {
     "data": {
      "text/plain": [
       "Index(['Survived', 'Pclass', 'Name', 'Sex', 'Age', 'SibSp', 'Parch', 'Ticket',\n",
       "       'Fare', 'Cabin', 'Embarked'],\n",
       "      dtype='object')"
      ]
     },
     "execution_count": 53,
     "metadata": {},
     "output_type": "execute_result"
    }
   ],
   "source": [
    "ids = train_df.get('PassengerId')\n",
    "train_df = train_df.drop(labels='PassengerId', axis=1)\n",
    "train_df.columns"
   ]
  },
  {
   "cell_type": "code",
   "execution_count": 54,
   "metadata": {},
   "outputs": [],
   "source": [
    "def split_age_gender(genders, ages):\n",
    "    men = []\n",
    "    women = []\n",
    "    for i, gender in np.ndenumerate(genders):\n",
    "        if gender == 'female':\n",
    "            women.append(ages[i])\n",
    "        elif gender == 'male':\n",
    "            men.append(ages[i])\n",
    "    return women, men\n",
    "def refactor_ages (genders, ages, women, men):\n",
    "    ages_refactor = []\n",
    "    for i, gender in np.ndenumerate(genders):\n",
    "        if math.isnan(ages[i]):\n",
    "            if gender == 'female':\n",
    "                ages_refactor.append(np.random.randint(women[0], women[1]))\n",
    "            else:\n",
    "                ages_refactor.append(np.random.randint(men[0], men[1]))\n",
    "        else:\n",
    "            ages_refactor.append(ages[i])\n",
    "    return np.array(ages_refactor)\n",
    "def gender_encoding(genders):\n",
    "    gender_refactor = []\n",
    "    for i, gender in np.ndenumerate(genders):\n",
    "        if gender == 'female':\n",
    "            gender_refactor.append(0)\n",
    "        else:\n",
    "            gender_refactor.append(1)\n",
    "    return np.array(gender_refactor)        "
   ]
  },
  {
   "cell_type": "code",
   "execution_count": 55,
   "metadata": {},
   "outputs": [],
   "source": [
    "# Veamos cada columna del dataset\n",
    "p_classes = train_df.get('Pclass')\n",
    "p_classes = p_classes.to_numpy()\n",
    "p_classes = p_classes.reshape((len(p_classes), 1))\n",
    "names = train_df.get('Name')\n",
    "names = names.to_numpy()\n",
    "names = names.reshape((len(names), 1))\n",
    "genders = train_df.get('Sex')\n",
    "genders = genders.to_numpy()\n",
    "genders = genders.reshape((len(genders), 1))\n",
    "ages = train_df.get('Age')\n",
    "ages = ages.to_numpy()\n",
    "ages = ages.reshape((len(ages), 1))\n",
    "siblings = train_df.get('SibSp')\n",
    "siblings = siblings.to_numpy()\n",
    "siblings = siblings.reshape((len(siblings), 1))\n",
    "parents = train_df.get('Parch')\n",
    "parents = parents.to_numpy()\n",
    "parents = parents.reshape((len(parents), 1))\n",
    "tickets = train_df.get('Ticket')\n",
    "tickets = tickets.to_numpy()\n",
    "tickets = tickets.reshape((len(tickets), 1))\n",
    "fares = train_df.get('Fare')\n",
    "fares = fares.to_numpy()\n",
    "fares = fares.reshape((len(fares), 1))\n",
    "cabins = train_df.get('Cabin')\n",
    "cabins = cabins.to_numpy()\n",
    "cabins = cabins.reshape((len(cabins), 1))\n",
    "ports = train_df.get('Embarked')\n",
    "ports = ports.to_numpy()\n",
    "ports = ports.reshape((len(ports), 1))"
   ]
  },
  {
   "cell_type": "code",
   "execution_count": 56,
   "metadata": {},
   "outputs": [],
   "source": [
    "women, men = split_age_gender(genders.ravel(), ages.ravel())\n",
    "women_avg = np.nanmean(women) \n",
    "women_std = np.nanstd(women)\n",
    "women_err = women_std / np.sqrt(len(women))\n",
    "men_avg = np.nanmean(men) \n",
    "men_std = np.nanstd(men)\n",
    "men_err = men_std / np.sqrt(len(men))\n",
    "ages = refactor_ages(genders.ravel(), ages.ravel(), [women_avg - women_err, women_avg + women_err], [men_avg - men_err, men_avg + men_err])\n",
    "ages = ages.reshape((len(ages), 1))\n",
    "genders = gender_encoding(genders)\n",
    "genders = genders.reshape((len(genders), 1))"
   ]
  },
  {
   "cell_type": "code",
   "execution_count": 58,
   "metadata": {},
   "outputs": [
    {
     "name": "stdout",
     "output_type": "stream",
     "text": [
      "++\n"
     ]
    }
   ],
   "source": [
    "print(\"++\")"
   ]
  },
  {
   "cell_type": "code",
   "execution_count": null,
   "metadata": {},
   "outputs": [],
   "source": []
  },
  {
   "cell_type": "code",
   "execution_count": null,
   "metadata": {},
   "outputs": [],
   "source": []
  }
 ],
 "metadata": {
  "kernelspec": {
   "display_name": "Python 3",
   "language": "python",
   "name": "python3"
  },
  "language_info": {
   "codemirror_mode": {
    "name": "ipython",
    "version": 3
   },
   "file_extension": ".py",
   "mimetype": "text/x-python",
   "name": "python",
   "nbconvert_exporter": "python",
   "pygments_lexer": "ipython3",
   "version": "3.7.3"
  }
 },
 "nbformat": 4,
 "nbformat_minor": 2
}
